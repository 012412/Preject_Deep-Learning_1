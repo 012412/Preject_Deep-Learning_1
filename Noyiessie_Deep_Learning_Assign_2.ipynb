{
 "cells": [
  {
   "cell_type": "markdown",
   "metadata": {},
   "source": [
    "<html> \n",
    "<body> \n",
    "<p><font size= \"4\" face=\"verdana\" color=\"green\">Project: Image Classification and Regression  MVA - CentraleSupelec</font> </p>\n",
    "</body> \n",
    "</html>\n",
    "\n",
    "\n",
    "                      \n",
    "                            \n",
    "                "
   ]
  },
  {
   "cell_type": "markdown",
   "metadata": {},
   "source": [
    "<html> \n",
    "<body>\n",
    "    \n",
    " <p><font size=\"4\">\n",
    "    <p><u><b><i> 1)-Data type generating </i></b> </u></p>\n",
    "    </font></p>\n",
    "</body>\n",
    "</html>"
   ]
  },
  {
   "cell_type": "markdown",
   "metadata": {},
   "source": [
    "<html> \n",
    "<body>\n",
    "    \n",
    " <p><font size=\"4\"> The following codes output three simple goemetrical shapes such as triangle, rectangle \n",
    "and disk. These shapes will be used throughout all what follow in order to solve problems as classification, regression and denoising </font></p>\n",
    "\n",
    "</body>\n",
    "</html>"
   ]
  },
  {
   "cell_type": "code",
   "execution_count": 1,
   "metadata": {
    "scrolled": true
   },
   "outputs": [
    {
     "name": "stderr",
     "output_type": "stream",
     "text": [
      "Using TensorFlow backend.\n"
     ]
    }
   ],
   "source": [
    "from keras.models import Sequential\n",
    "from keras.layers import Dense, Activation\n",
    "from keras.utils.np_utils import to_categorical\n",
    "from keras.layers.convolutional import Conv2D, MaxPooling2D\n",
    "from keras.layers import LocallyConnected2D\n",
    "\n",
    "from keras.models import Model\n",
    "from keras.layers import AveragePooling2D\n",
    "from keras.backend import pool2d\n",
    "from keras.layers import UpSampling2D\n",
    "from keras.layers import Reshape\n",
    "from keras.layers import Flatten\n",
    "from keras.layers import Input\n",
    "from keras.layers import Add\n",
    "from keras.optimizers import Adam\n",
    "\n",
    "import  numpy as np\n",
    "import  matplotlib.pyplot as plt\n",
    "import matplotlib.cm as cm\n",
    "%matplotlib inline\n",
    "\n",
    "\n",
    "\n",
    "# On some implementations of matplotlib, you may need to change this value\n",
    "IMAGE_SIZE = 72\n",
    "\n",
    "def generate_a_drawing(figsize, U, V, noise=0.0):\n",
    "    fig = plt.figure(figsize=(figsize,figsize))\n",
    "    ax = plt.subplot(111)\n",
    "    plt.axis('Off')\n",
    "    ax.set_xlim(0,figsize)\n",
    "    ax.set_ylim(0,figsize)\n",
    "    ax.fill(U, V, \"k\")\n",
    "    fig.canvas.draw()\n",
    "    imdata = np.frombuffer(fig.canvas.tostring_rgb(), dtype=np.uint8)[::3].astype(np.float32)\n",
    "    imdata = imdata + noise * np.random.random(imdata.size)\n",
    "    plt.close(fig)\n",
    "    return imdata\n",
    "\n",
    "def generate_a_rectangle(noise=0.0, free_location=False):\n",
    "    figsize = 1.0    \n",
    "    U = np.zeros(4)\n",
    "    V = np.zeros(4)\n",
    "    if free_location:\n",
    "        corners = np.random.random(4)\n",
    "        top = max(corners[0], corners[1])\n",
    "        bottom = min(corners[0], corners[1])\n",
    "        left = min(corners[2], corners[3])\n",
    "        right = max(corners[2], corners[3])\n",
    "    else:\n",
    "        side = (0.3 + 0.7 * np.random.random()) * figsize\n",
    "        top = figsize/2 + side/2\n",
    "        bottom = figsize/2 - side/2\n",
    "        left = bottom\n",
    "        right = top\n",
    "    U[0] = U[1] = top\n",
    "    U[2] = U[3] = bottom\n",
    "    V[0] = V[3] = left\n",
    "    V[1] = V[2] = right\n",
    "    return generate_a_drawing(figsize, U, V, noise)\n",
    "\n",
    "\n",
    "def generate_a_disk(noise=0.0, free_location=False):\n",
    "    figsize = 1.0\n",
    "    if free_location:\n",
    "        center = np.random.random(2)\n",
    "    else:\n",
    "        center = (figsize/2, figsize/2)\n",
    "    radius = (0.3 + 0.7 * np.random.random()) * figsize/2\n",
    "    N = 50\n",
    "    U = np.zeros(N)\n",
    "    V = np.zeros(N)\n",
    "    i = 0\n",
    "    for t in np.linspace(0, 2*np.pi, N):\n",
    "        U[i] = center[0] + np.cos(t) * radius\n",
    "        V[i] = center[1] + np.sin(t) * radius\n",
    "        i = i + 1\n",
    "    return generate_a_drawing(figsize, U, V, noise)\n",
    "\n",
    "\n",
    "def generate_a_triangle(noise=0.0, free_location=False):\n",
    "    figsize = 1.0\n",
    "    if free_location:\n",
    "        U = np.random.random(3)\n",
    "        V = np.random.random(3)\n",
    "    else:\n",
    "        size = (0.3 + 0.7 * np.random.random())*figsize/2\n",
    "        middle = figsize/2\n",
    "        U = (middle, middle+size, middle-size)\n",
    "        V = (middle+size, middle-size, middle-size)\n",
    "    imdata = generate_a_drawing(figsize, U, V, noise)\n",
    "    return [imdata, [U[0], V[0], U[1], V[1], U[2], V[2]]]\n",
    "                                                     \n",
    "#im = generate_a_rectangle(10, True)\n",
    "#plt.imshow(im.reshape(IMAGE_SIZE,IMAGE_SIZE), cmap='gray')\n",
    "#im = generate_a_disk(10)\n",
    "#plt.imshow(im.reshape(IMAGE_SIZE,IMAGE_SIZE), cmap='gray')\n",
    "#im, v] = generate_a_triangle(20, False)\n",
    "#plt.imshow(im.reshape(IMAGE_SIZE,IMAGE_SIZE), cmap='gray')\n",
    "\n",
    "def generate_dataset_classification(nb_samples, noise=0.0, free_location=False):\n",
    "    # Getting im_size:\n",
    "    im_size = generate_a_rectangle().shape[0]\n",
    "    X = np.zeros([nb_samples,im_size])\n",
    "    Y = np.zeros(nb_samples)\n",
    "    print('Creating data:')\n",
    "    for i in range(nb_samples):\n",
    "        if i % 10 == 0:\n",
    "            print(i)\n",
    "        category = np.random.randint(3)\n",
    "        if category == 0:\n",
    "            X[i] = generate_a_rectangle(noise, free_location)\n",
    "        elif category == 1: \n",
    "            X[i] = generate_a_disk(noise, free_location)\n",
    "        else:\n",
    "            [X[i], V] = generate_a_triangle(noise, free_location)\n",
    "        Y[i] = category\n",
    "    X = (X + noise) / (255 + 2 * noise)\n",
    "    return [X, Y]\n",
    "\n",
    "\n",
    "def generate_test_set_classification():\n",
    "    np.random.seed(42)\n",
    "    [X_test, Y_test] = generate_dataset_classification(300, 20, True)\n",
    "    Y_test = to_categorical(Y_test, 3) \n",
    "    return [X_test, Y_test]\n",
    "\n",
    "def generate_dataset_regression(nb_samples, noise=0.0):\n",
    "    # Getting im_size:\n",
    "    im_size = generate_a_triangle()[0].shape[0]\n",
    "    X = np.zeros([nb_samples,im_size])\n",
    "    Y = np.zeros([nb_samples, 6])\n",
    "    print('Creating data:')\n",
    "    for i in range(nb_samples):\n",
    "        if i % 10 == 0:\n",
    "            print(i)\n",
    "        [X[i], Y[i]] = generate_a_triangle(noise, True)\n",
    "    X = (X + noise) / (255 + 2 * noise)\n",
    "    return [X, Y]\n",
    "\n",
    "\n",
    "import matplotlib.patches as patches\n",
    "\n",
    "def visualize_prediction(x, y):\n",
    "    fig, ax = plt.subplots(figsize=(5, 5))\n",
    "    I = x.reshape((IMAGE_SIZE,IMAGE_SIZE))\n",
    "    ax.imshow(I, extent=[-0.15,1.15,-0.15,1.15],cmap='gray')\n",
    "    ax.set_xlim([0,1])\n",
    "    ax.set_ylim([0,1])\n",
    "\n",
    "    xy = y.reshape(3,2)\n",
    "    tri = patches.Polygon(xy, closed=True, fill = False, edgecolor = 'r', linewidth = 5, alpha = 0.5)\n",
    "    ax.add_patch(tri)\n",
    "\n",
    "    plt.show()\n",
    "    \n",
    "def generate_test_set_regression():\n",
    "    np.random.seed(42)\n",
    "    [X_test, Y_test] = generate_dataset_regression(300, 20)\n",
    "    return [X_test, Y_test]\n",
    "                                                     \n",
    "                                                     \n",
    "                                                     \n",
    "\n",
    "\n",
    "                                                                                                                                        \n",
    "                                                                         \n",
    "\n",
    "\n"
   ]
  },
  {
   "cell_type": "markdown",
   "metadata": {},
   "source": [
    "<html> \n",
    "<body>\n",
    "    \n",
    " <p><font size=\"4\">\n",
    "    <p><u><b><i> 2)-Simple classification </i></b> </u></p>\n",
    "    </font></p>\n",
    "</body>\n",
    "</html>"
   ]
  },
  {
   "cell_type": "markdown",
   "metadata": {},
   "source": [
    "<html> \n",
    "<body>\n",
    "<p><font size=\"4\"> We build and train a linear classifier in Keras to classify a image into one of the three possible categories (i.e. rectangle, disk, triangle). We will use first the stochastic gradient descent optimizer, then the Adam optimizer\n",
    "</font></p>\n",
    "</body>\n",
    "</html>"
   ]
  },
  {
   "cell_type": "markdown",
   "metadata": {},
   "source": [
    "<html> \n",
    "<body>\n",
    "<p><font size=\"4\"> \n",
    "2-1)-Case of SGD optimizer\n",
    "</font></p>\n",
    "</body>\n",
    "</html>"
   ]
  },
  {
   "cell_type": "code",
   "execution_count": 2,
   "metadata": {
    "scrolled": true
   },
   "outputs": [
    {
     "name": "stdout",
     "output_type": "stream",
     "text": [
      "Creating data:\n",
      "0\n",
      "10\n",
      "20\n",
      "30\n",
      "40\n",
      "50\n",
      "60\n",
      "70\n",
      "80\n",
      "90\n",
      "100\n",
      "110\n",
      "120\n",
      "130\n",
      "140\n",
      "150\n",
      "160\n",
      "170\n",
      "180\n",
      "190\n",
      "200\n",
      "210\n",
      "220\n",
      "230\n",
      "240\n",
      "250\n",
      "260\n",
      "270\n",
      "280\n",
      "290\n",
      "Epoch 1/30\n",
      "300/300 [==============================] - 0s 381us/step - loss: 0.3864\n",
      "Epoch 2/30\n",
      "300/300 [==============================] - 0s 113us/step - loss: 0.3362\n",
      "Epoch 3/30\n",
      "300/300 [==============================] - 0s 107us/step - loss: 0.2836\n",
      "Epoch 4/30\n",
      "300/300 [==============================] - 0s 98us/step - loss: 0.2526\n",
      "Epoch 5/30\n",
      "300/300 [==============================] - 0s 101us/step - loss: 0.2058\n",
      "Epoch 6/30\n",
      "300/300 [==============================] - 0s 93us/step - loss: 0.1912\n",
      "Epoch 7/30\n",
      "300/300 [==============================] - 0s 120us/step - loss: 0.2204\n",
      "Epoch 8/30\n",
      "300/300 [==============================] - 0s 126us/step - loss: 0.1891\n",
      "Epoch 9/30\n",
      "300/300 [==============================] - 0s 125us/step - loss: 0.1668\n",
      "Epoch 10/30\n",
      "300/300 [==============================] - 0s 119us/step - loss: 0.1314\n",
      "Epoch 11/30\n",
      "300/300 [==============================] - 0s 120us/step - loss: 0.1090\n",
      "Epoch 12/30\n",
      "300/300 [==============================] - 0s 138us/step - loss: 0.1135\n",
      "Epoch 13/30\n",
      "300/300 [==============================] - 0s 89us/step - loss: 0.1112\n",
      "Epoch 14/30\n",
      "300/300 [==============================] - 0s 99us/step - loss: 0.0919\n",
      "Epoch 15/30\n",
      "300/300 [==============================] - 0s 101us/step - loss: 0.1138\n",
      "Epoch 16/30\n",
      "300/300 [==============================] - 0s 99us/step - loss: 0.1022\n",
      "Epoch 17/30\n",
      "300/300 [==============================] - 0s 119us/step - loss: 0.0883\n",
      "Epoch 18/30\n",
      "300/300 [==============================] - 0s 105us/step - loss: 0.1007\n",
      "Epoch 19/30\n",
      "300/300 [==============================] - 0s 96us/step - loss: 0.0907\n",
      "Epoch 20/30\n",
      "300/300 [==============================] - 0s 120us/step - loss: 0.0801\n",
      "Epoch 21/30\n",
      "300/300 [==============================] - 0s 98us/step - loss: 0.0870\n",
      "Epoch 22/30\n",
      "300/300 [==============================] - 0s 125us/step - loss: 0.0795\n",
      "Epoch 23/30\n",
      "300/300 [==============================] - 0s 185us/step - loss: 0.0820\n",
      "Epoch 24/30\n",
      "300/300 [==============================] - 0s 156us/step - loss: 0.0778\n",
      "Epoch 25/30\n",
      "300/300 [==============================] - 0s 146us/step - loss: 0.0715\n",
      "Epoch 26/30\n",
      "300/300 [==============================] - 0s 99us/step - loss: 0.0803\n",
      "Epoch 27/30\n",
      "300/300 [==============================] - 0s 100us/step - loss: 0.0720\n",
      "Epoch 28/30\n",
      "300/300 [==============================] - 0s 83us/step - loss: 0.0851\n",
      "Epoch 29/30\n",
      "300/300 [==============================] - 0s 121us/step - loss: 0.0571\n",
      "Epoch 30/30\n",
      "300/300 [==============================] - 0s 133us/step - loss: 0.0654\n"
     ]
    },
    {
     "data": {
      "text/plain": [
       "<keras.callbacks.History at 0x7fc739d5ee80>"
      ]
     },
     "execution_count": 2,
     "metadata": {},
     "output_type": "execute_result"
    }
   ],
   "source": [
    "#generating training set of images of simple geometric shapes\n",
    "[X_train, Y_train] = generate_dataset_classification(300, 20)\n",
    "\n",
    "# Transforming labels 0, 1 and 2 to biraries arrays, in order to make binary classification\n",
    "\n",
    "Y_binary = to_categorical(Y_train)\n",
    "\n",
    "#Linear Model\n",
    "\n",
    "model = Sequential()\n",
    "model.add(Dense(input_dim=5184, activation=\"softmax\", units=3, kernel_initializer=\"normal\"))\n",
    "\n",
    "#Defining the optimization method(stochastic gradient descent optimizer)\n",
    "\n",
    "model.compile(loss='mse', optimizer='sgd')\n",
    "\n",
    "model.fit(X_train, Y_binary, epochs=30, batch_size=32)"
   ]
  },
  {
   "cell_type": "markdown",
   "metadata": {},
   "source": [
    "<html> \n",
    "<body>\n",
    "<p><font size=\"4\"> \n",
    "2-1-1)-Checking the classifier with SGD optimizer\n",
    "</font></p>\n",
    "</body>\n",
    "</html>"
   ]
  },
  {
   "cell_type": "code",
   "execution_count": 3,
   "metadata": {
    "scrolled": true
   },
   "outputs": [
    {
     "name": "stdout",
     "output_type": "stream",
     "text": [
      "[255. 255. 255. ... 255. 255. 255.]\n",
      "(5184,)\n",
      "(1, 5184)\n"
     ]
    },
    {
     "data": {
      "text/plain": [
       "array([[0., 1., 0.]], dtype=float32)"
      ]
     },
     "execution_count": 3,
     "metadata": {},
     "output_type": "execute_result"
    }
   ],
   "source": [
    "X_test = generate_a_disk()\n",
    "print(X_test)\n",
    "print(X_test.shape)\n",
    "X_test = X_test.reshape(1, X_test.shape[0])\n",
    "print(X_test.shape)\n",
    "model.predict(X_test)"
   ]
  },
  {
   "cell_type": "markdown",
   "metadata": {},
   "source": [
    "<html> \n",
    "<body>\n",
    "<p><font size=\"4\"> \n",
    "2-2)-Case of Adam optimizer \n",
    "</font></p>\n",
    "</body>\n",
    "</html>"
   ]
  },
  {
   "cell_type": "code",
   "execution_count": 4,
   "metadata": {
    "scrolled": true
   },
   "outputs": [
    {
     "name": "stdout",
     "output_type": "stream",
     "text": [
      "Epoch 1/30\n",
      "300/300 [==============================] - 0s 631us/step - loss: 0.1608\n",
      "Epoch 2/30\n",
      "300/300 [==============================] - 0s 150us/step - loss: 0.0851\n",
      "Epoch 3/30\n",
      "300/300 [==============================] - 0s 146us/step - loss: 0.0553\n",
      "Epoch 4/30\n",
      "300/300 [==============================] - 0s 161us/step - loss: 0.0379\n",
      "Epoch 5/30\n",
      "300/300 [==============================] - 0s 170us/step - loss: 0.0484\n",
      "Epoch 6/30\n",
      "300/300 [==============================] - 0s 158us/step - loss: 0.0312\n",
      "Epoch 7/30\n",
      "300/300 [==============================] - 0s 112us/step - loss: 0.0384\n",
      "Epoch 8/30\n",
      "300/300 [==============================] - 0s 153us/step - loss: 0.0450\n",
      "Epoch 9/30\n",
      "300/300 [==============================] - 0s 132us/step - loss: 0.0306\n",
      "Epoch 10/30\n",
      "300/300 [==============================] - 0s 145us/step - loss: 0.0203\n",
      "Epoch 11/30\n",
      "300/300 [==============================] - 0s 156us/step - loss: 0.0190\n",
      "Epoch 12/30\n",
      "300/300 [==============================] - 0s 140us/step - loss: 0.0282\n",
      "Epoch 13/30\n",
      "300/300 [==============================] - 0s 123us/step - loss: 0.0211\n",
      "Epoch 14/30\n",
      "300/300 [==============================] - 0s 131us/step - loss: 0.0122\n",
      "Epoch 15/30\n",
      "300/300 [==============================] - 0s 100us/step - loss: 0.0097\n",
      "Epoch 16/30\n",
      "300/300 [==============================] - 0s 118us/step - loss: 0.0135\n",
      "Epoch 17/30\n",
      "300/300 [==============================] - 0s 128us/step - loss: 0.0089\n",
      "Epoch 18/30\n",
      "300/300 [==============================] - 0s 157us/step - loss: 0.0046\n",
      "Epoch 19/30\n",
      "300/300 [==============================] - 0s 149us/step - loss: 0.0034\n",
      "Epoch 20/30\n",
      "300/300 [==============================] - 0s 139us/step - loss: 0.0028\n",
      "Epoch 21/30\n",
      "300/300 [==============================] - 0s 127us/step - loss: 0.0031\n",
      "Epoch 22/30\n",
      "300/300 [==============================] - 0s 139us/step - loss: 0.0025\n",
      "Epoch 23/30\n",
      "300/300 [==============================] - 0s 131us/step - loss: 0.0024\n",
      "Epoch 24/30\n",
      "300/300 [==============================] - 0s 144us/step - loss: 0.0027\n",
      "Epoch 25/30\n",
      "300/300 [==============================] - 0s 121us/step - loss: 0.0043\n",
      "Epoch 26/30\n",
      "300/300 [==============================] - 0s 139us/step - loss: 0.0034\n",
      "Epoch 27/30\n",
      "300/300 [==============================] - 0s 158us/step - loss: 0.0024\n",
      "Epoch 28/30\n",
      "300/300 [==============================] - 0s 133us/step - loss: 0.0018\n",
      "Epoch 29/30\n",
      "300/300 [==============================] - 0s 156us/step - loss: 0.0018\n",
      "Epoch 30/30\n",
      "300/300 [==============================] - 0s 120us/step - loss: 0.0019\n"
     ]
    },
    {
     "data": {
      "text/plain": [
       "<keras.callbacks.History at 0x7fc73d844be0>"
      ]
     },
     "execution_count": 4,
     "metadata": {},
     "output_type": "execute_result"
    }
   ],
   "source": [
    "model.compile(loss='mse', optimizer='adam')\n",
    "model.fit(X_train, Y_binary, epochs=30, batch_size=32)"
   ]
  },
  {
   "cell_type": "markdown",
   "metadata": {},
   "source": [
    "<html> \n",
    "<body>\n",
    "<p><font size=\"4\"> \n",
    "2-2-1)-Checking the classifier with Adam optimizer\n",
    "</font></p>\n",
    "</body>\n",
    "</html>"
   ]
  },
  {
   "cell_type": "code",
   "execution_count": 5,
   "metadata": {
    "scrolled": true
   },
   "outputs": [
    {
     "name": "stdout",
     "output_type": "stream",
     "text": [
      "[255. 255. 255. ... 255. 255. 255.]\n",
      "(5184,)\n",
      "(1, 5184)\n"
     ]
    },
    {
     "data": {
      "text/plain": [
       "array([[0., 1., 0.]], dtype=float32)"
      ]
     },
     "execution_count": 5,
     "metadata": {},
     "output_type": "execute_result"
    }
   ],
   "source": [
    "X_test = generate_a_disk()\n",
    "print(X_test)\n",
    "print(X_test.shape)\n",
    "X_test = X_test.reshape(1, X_test.shape[0])\n",
    "print(X_test.shape)\n",
    "model.predict(X_test)"
   ]
  },
  {
   "cell_type": "markdown",
   "metadata": {},
   "source": [
    "\n",
    "<html> \n",
    "<body>\n",
    "    \n",
    " <p><font size=\"4\">\n",
    "    <p><u><b><i> 3)-Visualization of the Solution </i></b> </u></p>\n",
    "    </font></p>\n",
    "</body>\n",
    "</html>"
   ]
  },
  {
   "cell_type": "markdown",
   "metadata": {},
   "source": [
    "<html> \n",
    "<body>\n",
    " <p><font size=\"4\"> We visualize the weights of the linear classifier </font></p>\n",
    "</body>\n",
    "</html>"
   ]
  },
  {
   "cell_type": "code",
   "execution_count": 6,
   "metadata": {
    "scrolled": false
   },
   "outputs": [
    {
     "name": "stdout",
     "output_type": "stream",
     "text": [
      "(5184,)\n"
     ]
    },
    {
     "data": {
      "text/plain": [
       "<matplotlib.image.AxesImage at 0x7fc73802da90>"
      ]
     },
     "execution_count": 6,
     "metadata": {},
     "output_type": "execute_result"
    },
    {
     "data": {
      "image/png": "[encoded data removed]",
      "text/plain": [
       "<Figure size 432x288 with 1 Axes>"
      ]
     },
     "metadata": {
      "needs_background": "light"
     },
     "output_type": "display_data"
    }
   ],
   "source": [
    "print(model.get_weights()[0][:,0].shape)\n",
    "\n",
    "plt.imshow(model.get_weights()[0][:,0].reshape(72,72), cmap = cm.Greys)"
   ]
  },
  {
   "cell_type": "code",
   "execution_count": 7,
   "metadata": {
    "scrolled": true
   },
   "outputs": [
    {
     "data": {
      "text/plain": [
       "<matplotlib.image.AxesImage at 0x7fc730790470>"
      ]
     },
     "execution_count": 7,
     "metadata": {},
     "output_type": "execute_result"
    },
    {
     "data": {
      "image/png": "[encoded data removed]",
      "text/plain": [
       "<Figure size 432x288 with 1 Axes>"
      ]
     },
     "metadata": {
      "needs_background": "light"
     },
     "output_type": "display_data"
    }
   ],
   "source": [
    "plt.imshow(model.get_weights()[0][:,1].reshape(72,72), cmap = cm.Greys)"
   ]
  },
  {
   "cell_type": "code",
   "execution_count": 8,
   "metadata": {},
   "outputs": [
    {
     "data": {
      "text/plain": [
       "<matplotlib.image.AxesImage at 0x7fc730774128>"
      ]
     },
     "execution_count": 8,
     "metadata": {},
     "output_type": "execute_result"
    },
    {
     "data": {
      "image/png": "[encoded data removed]",
      "text/plain": [
       "<Figure size 432x288 with 1 Axes>"
      ]
     },
     "metadata": {
      "needs_background": "light"
     },
     "output_type": "display_data"
    }
   ],
   "source": [
    "plt.imshow(model.get_weights()[0][:,2].reshape(72,72), cmap = cm.Greys)"
   ]
  },
  {
   "cell_type": "markdown",
   "metadata": {},
   "source": [
    "\n",
    "<html> \n",
    "<body>\n",
    "    \n",
    " <p><font size=\"4\">\n",
    "    <p><u><b><i> 4)-A More Difficult Classification Problem </i></b> </u></p>\n",
    "    </font></p>\n",
    "</body>\n",
    "</html>"
   ]
  },
  {
   "cell_type": "markdown",
   "metadata": {},
   "source": [
    "<html> \n",
    "<body>\n",
    "<p><font size=\"4\"> Now, the shapes are allowed to move within the images and change dimensions, which ipplied the use of convolution neural networks.\n",
    "</font></p>\n",
    "</body>\n",
    "</html>"
   ]
  },
  {
   "cell_type": "markdown",
   "metadata": {},
   "source": [
    "<html> \n",
    "<body>\n",
    "<p><font size=\"4\"> 4-1)-We retrain our linear classifier on new training set of image with shape taking into account. And we add the metrics=[’accuracy’] parameter\n",
    "when calling the compile function to get the classification error in addition to the loss value.</font></p>\n",
    "</body>\n",
    "</html>"
   ]
  },
  {
   "cell_type": "code",
   "execution_count": 9,
   "metadata": {},
   "outputs": [
    {
     "name": "stdout",
     "output_type": "stream",
     "text": [
      "Creating data:\n",
      "0\n",
      "10\n",
      "20\n",
      "30\n",
      "40\n",
      "50\n",
      "60\n",
      "70\n",
      "80\n",
      "90\n",
      "100\n",
      "110\n",
      "120\n",
      "130\n",
      "140\n",
      "150\n",
      "160\n",
      "170\n",
      "180\n",
      "190\n",
      "200\n",
      "210\n",
      "220\n",
      "230\n",
      "240\n",
      "250\n",
      "260\n",
      "270\n",
      "280\n",
      "290\n",
      "Epoch 1/40\n",
      "300/300 [==============================] - 0s 396us/step - loss: 0.4342 - acc: 0.2967\n",
      "Epoch 2/40\n",
      "300/300 [==============================] - 0s 97us/step - loss: 0.3882 - acc: 0.3033\n",
      "Epoch 3/40\n",
      "300/300 [==============================] - 0s 108us/step - loss: 0.3699 - acc: 0.3000\n",
      "Epoch 4/40\n",
      "300/300 [==============================] - 0s 91us/step - loss: 0.3717 - acc: 0.3100\n",
      "Epoch 5/40\n",
      "300/300 [==============================] - 0s 98us/step - loss: 0.3703 - acc: 0.3367\n",
      "Epoch 6/40\n",
      "300/300 [==============================] - 0s 106us/step - loss: 0.3668 - acc: 0.3233\n",
      "Epoch 7/40\n",
      "300/300 [==============================] - 0s 95us/step - loss: 0.3670 - acc: 0.2867\n",
      "Epoch 8/40\n",
      "300/300 [==============================] - 0s 97us/step - loss: 0.3078 - acc: 0.3333\n",
      "Epoch 9/40\n",
      "300/300 [==============================] - 0s 100us/step - loss: 0.2784 - acc: 0.3967\n",
      "Epoch 10/40\n",
      "300/300 [==============================] - 0s 89us/step - loss: 0.3234 - acc: 0.3767\n",
      "Epoch 11/40\n",
      "300/300 [==============================] - 0s 95us/step - loss: 0.2841 - acc: 0.4100\n",
      "Epoch 12/40\n",
      "300/300 [==============================] - 0s 93us/step - loss: 0.3257 - acc: 0.3300\n",
      "Epoch 13/40\n",
      "300/300 [==============================] - 0s 110us/step - loss: 0.2390 - acc: 0.3933\n",
      "Epoch 14/40\n",
      "300/300 [==============================] - 0s 87us/step - loss: 0.2674 - acc: 0.3767\n",
      "Epoch 15/40\n",
      "300/300 [==============================] - 0s 90us/step - loss: 0.3003 - acc: 0.4067\n",
      "Epoch 16/40\n",
      "300/300 [==============================] - 0s 84us/step - loss: 0.2842 - acc: 0.4400\n",
      "Epoch 17/40\n",
      "300/300 [==============================] - 0s 87us/step - loss: 0.3482 - acc: 0.3700\n",
      "Epoch 18/40\n",
      "300/300 [==============================] - 0s 119us/step - loss: 0.3067 - acc: 0.3667\n",
      "Epoch 19/40\n",
      "300/300 [==============================] - 0s 100us/step - loss: 0.2590 - acc: 0.4133\n",
      "Epoch 20/40\n",
      "300/300 [==============================] - 0s 92us/step - loss: 0.2396 - acc: 0.4633\n",
      "Epoch 21/40\n",
      "300/300 [==============================] - 0s 103us/step - loss: 0.3042 - acc: 0.4000\n",
      "Epoch 22/40\n",
      "300/300 [==============================] - 0s 101us/step - loss: 0.3189 - acc: 0.3967\n",
      "Epoch 23/40\n",
      "300/300 [==============================] - 0s 94us/step - loss: 0.2931 - acc: 0.4100\n",
      "Epoch 24/40\n",
      "300/300 [==============================] - 0s 97us/step - loss: 0.2692 - acc: 0.4500\n",
      "Epoch 25/40\n",
      "300/300 [==============================] - 0s 100us/step - loss: 0.2332 - acc: 0.4667\n",
      "Epoch 26/40\n",
      "300/300 [==============================] - 0s 102us/step - loss: 0.3009 - acc: 0.3733\n",
      "Epoch 27/40\n",
      "300/300 [==============================] - 0s 107us/step - loss: 0.2448 - acc: 0.4667\n",
      "Epoch 28/40\n",
      "300/300 [==============================] - 0s 115us/step - loss: 0.3067 - acc: 0.4367\n",
      "Epoch 29/40\n",
      "300/300 [==============================] - 0s 104us/step - loss: 0.3234 - acc: 0.4100\n",
      "Epoch 30/40\n",
      "300/300 [==============================] - 0s 105us/step - loss: 0.2607 - acc: 0.5267\n",
      "Epoch 31/40\n",
      "300/300 [==============================] - 0s 112us/step - loss: 0.2836 - acc: 0.5000\n",
      "Epoch 32/40\n",
      "300/300 [==============================] - 0s 99us/step - loss: 0.3061 - acc: 0.4333\n",
      "Epoch 33/40\n",
      "300/300 [==============================] - 0s 108us/step - loss: 0.2841 - acc: 0.4367\n",
      "Epoch 34/40\n",
      "300/300 [==============================] - 0s 116us/step - loss: 0.2268 - acc: 0.4933\n",
      "Epoch 35/40\n",
      "300/300 [==============================] - 0s 113us/step - loss: 0.2286 - acc: 0.5000\n",
      "Epoch 36/40\n",
      "300/300 [==============================] - 0s 128us/step - loss: 0.2136 - acc: 0.5300\n",
      "Epoch 37/40\n",
      "300/300 [==============================] - 0s 110us/step - loss: 0.2012 - acc: 0.5667\n",
      "Epoch 38/40\n",
      "300/300 [==============================] - 0s 103us/step - loss: 0.2503 - acc: 0.4567\n",
      "Epoch 39/40\n",
      "300/300 [==============================] - 0s 84us/step - loss: 0.2198 - acc: 0.5367\n",
      "Epoch 40/40\n",
      "300/300 [==============================] - 0s 88us/step - loss: 0.1979 - acc: 0.5400\n"
     ]
    },
    {
     "data": {
      "text/plain": [
       "<keras.callbacks.History at 0x7fc73a31ffd0>"
      ]
     },
     "execution_count": 9,
     "metadata": {},
     "output_type": "execute_result"
    }
   ],
   "source": [
    "#generating training set of images of simple geometric shapes\n",
    "[X_train, Y_train] = generate_dataset_classification(300, 20, True)\n",
    "\n",
    "\n",
    "# Transforming labels 0, 1 and 2 to biraries arrays, in order to make binary classification\n",
    "\n",
    "Y_binary = to_categorical(Y_train)\n",
    "\n",
    "#Linear Model\n",
    "\n",
    "model = Sequential()\n",
    "model.add(Dense(input_dim=5184, activation=\"softmax\", units=3, kernel_initializer=\"normal\"))\n",
    "\n",
    "#Defining the optimization method(stochastic gradient descent optimizer)\n",
    "\n",
    "model.compile(loss='mse', optimizer='sgd', metrics=['accuracy'])\n",
    "\n",
    "model.fit(X_train, Y_binary, epochs=40, batch_size=32)"
   ]
  },
  {
   "cell_type": "markdown",
   "metadata": {},
   "source": [
    "<html> \n",
    "<body>\n",
    "<p><font size=\"4\"> 4-1)-Testing </font></p>\n",
    "</body>\n",
    "</html>"
   ]
  },
  {
   "cell_type": "code",
   "execution_count": 10,
   "metadata": {},
   "outputs": [
    {
     "name": "stdout",
     "output_type": "stream",
     "text": [
      "Creating data:\n",
      "0\n",
      "10\n",
      "20\n",
      "30\n",
      "40\n",
      "50\n",
      "60\n",
      "70\n",
      "80\n",
      "90\n",
      "100\n",
      "110\n",
      "120\n",
      "130\n",
      "140\n",
      "150\n",
      "160\n",
      "170\n",
      "180\n",
      "190\n",
      "200\n",
      "210\n",
      "220\n",
      "230\n",
      "240\n",
      "250\n",
      "260\n",
      "270\n",
      "280\n",
      "290\n",
      "300/300 [==============================] - 0s 172us/step\n"
     ]
    },
    {
     "data": {
      "text/plain": [
       "[0.2584584261973699, 0.5400000007947287]"
      ]
     },
     "execution_count": 10,
     "metadata": {},
     "output_type": "execute_result"
    }
   ],
   "source": [
    "[X_test, Y_test] = generate_test_set_classification()\n",
    "model.evaluate(X_test, Y_test)"
   ]
  },
  {
   "cell_type": "markdown",
   "metadata": {},
   "source": [
    "<html> \n",
    "<body>\n",
    "<p><font size=\"4\"> 4-1)-We train a convolutional (not-to-)deep network on this new dataset </font></p>\n",
    "</body>\n",
    "</html>\n"
   ]
  },
  {
   "cell_type": "code",
   "execution_count": 11,
   "metadata": {},
   "outputs": [
    {
     "name": "stdout",
     "output_type": "stream",
     "text": [
      "Creating data:\n",
      "0\n",
      "10\n",
      "20\n",
      "30\n",
      "40\n",
      "50\n",
      "60\n",
      "70\n",
      "80\n",
      "90\n",
      "100\n",
      "110\n",
      "120\n",
      "130\n",
      "140\n",
      "150\n",
      "160\n",
      "170\n",
      "180\n",
      "190\n",
      "200\n",
      "210\n",
      "220\n",
      "230\n",
      "240\n",
      "250\n",
      "260\n",
      "270\n",
      "280\n",
      "290\n",
      "[[[[0.96609374]\n",
      "   [0.93900169]\n",
      "   [0.98642444]\n",
      "   ...\n",
      "   [0.95609019]\n",
      "   [0.99360517]\n",
      "   [0.9613536 ]]\n",
      "\n",
      "  [[0.93527722]\n",
      "   [0.99067896]\n",
      "   [0.99043851]\n",
      "   ...\n",
      "   [0.95145456]\n",
      "   [0.94971097]\n",
      "   [0.99527181]]\n",
      "\n",
      "  [[0.99997895]\n",
      "   [0.95960149]\n",
      "   [0.95410403]\n",
      "   ...\n",
      "   [0.99849493]\n",
      "   [0.98004909]\n",
      "   [0.95457498]]\n",
      "\n",
      "  ...\n",
      "\n",
      "  [[0.94927541]\n",
      "   [0.93977508]\n",
      "   [0.99849083]\n",
      "   ...\n",
      "   [0.9926464 ]\n",
      "   [0.95904846]\n",
      "   [0.99035363]]\n",
      "\n",
      "  [[0.94273567]\n",
      "   [0.95301136]\n",
      "   [0.94592699]\n",
      "   ...\n",
      "   [0.97170475]\n",
      "   [0.99632669]\n",
      "   [0.99809867]]\n",
      "\n",
      "  [[0.94689758]\n",
      "   [0.97251392]\n",
      "   [0.95661843]\n",
      "   ...\n",
      "   [0.95514528]\n",
      "   [0.95217142]\n",
      "   [0.96325642]]]] (1, 72, 72, 1)\n",
      "[[0. 0. 1.]] (1, 3)\n",
      "(?, 72, 72, 16)\n",
      "(?, 3, 3, 16)\n",
      "_________________________________________________________________\n",
      "Layer (type)                 Output Shape              Param #   \n",
      "=================================================================\n",
      "input_1 (InputLayer)         (None, 72, 72, 1)         0         \n",
      "_________________________________________________________________\n",
      "conv2d_1 (Conv2D)            (None, 72, 72, 16)        416       \n",
      "_________________________________________________________________\n",
      "max_pooling2d_1 (MaxPooling2 (None, 3, 3, 16)          0         \n",
      "_________________________________________________________________\n",
      "flatten_1 (Flatten)          (None, 144)               0         \n",
      "_________________________________________________________________\n",
      "dense_3 (Dense)              (None, 3)                 435       \n",
      "=================================================================\n",
      "Total params: 851\n",
      "Trainable params: 851\n",
      "Non-trainable params: 0\n",
      "_________________________________________________________________\n",
      "Epoch 1/4\n",
      "1/1 [==============================] - 0s 166ms/step - loss: 0.3333 - acc: 0.0000e+00\n",
      "Epoch 2/4\n",
      "1/1 [==============================] - 0s 17ms/step - loss: 0.3333 - acc: 0.0000e+00\n",
      "Epoch 3/4\n",
      "1/1 [==============================] - 0s 25ms/step - loss: 0.3333 - acc: 0.0000e+00\n",
      "Epoch 4/4\n",
      "1/1 [==============================] - 0s 20ms/step - loss: 0.3333 - acc: 0.0000e+00\n"
     ]
    }
   ],
   "source": [
    "[X_train, Y_train] = generate_dataset_classification(300, 20, True)\n",
    "Y_binary = to_categorical(Y_train)\n",
    "X = [np.expand_dims(np.expand_dims(X_train[i].reshape(72,72), 2), 0) for i in range(300)]\n",
    "Y = np.expand_dims(Y_binary, axis=1)\n",
    "print(X[0], X[0].shape)\n",
    "print(Y[0], Y[0].shape)\n",
    "\n",
    "model_input = Input(shape = (72, 72, 1))\n",
    "conv1 = Conv2D(16, 5, padding='same', activation=\"softmax\")(model_input)\n",
    "print(conv1.shape)\n",
    "pool1 = MaxPooling2D(pool_size=(24, 24), padding = \"valid\")(conv1)\n",
    "print(pool1.shape)\n",
    "flatten = Flatten()(pool1)\n",
    "dense1 = Dense(3, activation = 'relu')(flatten)\n",
    "mod= Model(model_input, dense1)\n",
    "mod.summary()\n",
    "### Defining the optimization method(stochastic gradient descent optimizer)\n",
    "for i in range(1):\n",
    "    mod.compile(loss='mse', optimizer='sgd', metrics=['accuracy'])\n",
    "    mod.fit(X[i], Y[i], epochs=4, batch_size=4)\n",
    "\n"
   ]
  },
  {
   "cell_type": "markdown",
   "metadata": {},
   "source": [
    "<html> \n",
    "<body>\n",
    "    \n",
    " <p><font size=\"4\">\n",
    "    <p><u><b><i> 5)-A Regression Problem </i></b> </u></p>\n",
    "    </font></p>\n",
    "</body>\n",
    "</html>"
   ]
  },
  {
   "cell_type": "markdown",
   "metadata": {},
   "source": [
    "\n",
    "<html> \n",
    "<body>\n",
    "<p><font size=\"4\"> 5-1)-The task now is to predict the image locations of the vertices of a triangle, given an image of this\n",
    "triangle. </font></p>\n",
    "</body>\n",
    "</html>"
   ]
  },
  {
   "cell_type": "markdown",
   "metadata": {
    "scrolled": true
   },
   "source": [
    "<html> \n",
    "<body>\n",
    "<p><font size=\"4\"> 5-1-1)-We visualize a training sample (or a prediction) by calling the visualize_prediction.\n",
    "function</font></p>\n",
    "</body>\n",
    "</html>"
   ]
  },
  {
   "cell_type": "code",
   "execution_count": 12,
   "metadata": {
    "scrolled": true
   },
   "outputs": [
    {
     "name": "stdout",
     "output_type": "stream",
     "text": [
      "Creating data:\n",
      "0\n",
      "10\n",
      "20\n",
      "30\n",
      "40\n",
      "50\n",
      "60\n",
      "70\n",
      "80\n",
      "90\n",
      "100\n",
      "110\n",
      "120\n",
      "130\n",
      "140\n",
      "150\n",
      "160\n",
      "170\n",
      "180\n",
      "190\n",
      "200\n",
      "210\n",
      "220\n",
      "230\n",
      "240\n",
      "250\n",
      "260\n",
      "270\n",
      "280\n",
      "290\n"
     ]
    },
    {
     "data": {
      "image/png": "[encoded data removed]",
      "text/plain": [
       "<Figure size 360x360 with 1 Axes>"
      ]
     },
     "metadata": {
      "needs_background": "light"
     },
     "output_type": "display_data"
    }
   ],
   "source": [
    "[X_train, Y_train] = generate_dataset_regression(300, 20)\n",
    "visualize_prediction(X_train[2], Y_train[2])"
   ]
  },
  {
   "cell_type": "markdown",
   "metadata": {},
   "source": [
    "<html> \n",
    "<body>\n",
    "<p><font size=\"4\"> 5-1-2)-We Build and train a regressor on the regression data.</font></p>\n",
    "</body>\n",
    "</html>"
   ]
  },
  {
   "cell_type": "code",
   "execution_count": 13,
   "metadata": {},
   "outputs": [
    {
     "name": "stdout",
     "output_type": "stream",
     "text": [
      "Creating data:\n",
      "0\n",
      "10\n",
      "20\n",
      "30\n",
      "40\n",
      "50\n",
      "60\n",
      "70\n",
      "80\n",
      "90\n",
      "100\n",
      "110\n",
      "120\n",
      "130\n",
      "140\n",
      "150\n",
      "160\n",
      "170\n",
      "180\n",
      "190\n",
      "200\n",
      "210\n",
      "220\n",
      "230\n",
      "240\n",
      "250\n",
      "260\n",
      "270\n",
      "280\n",
      "290\n",
      "Epoch 1/4\n",
      "300/300 [==============================] - 0s 596us/step - loss: 34.1243 - acc: 0.1900\n",
      "Epoch 2/4\n",
      "300/300 [==============================] - 0s 97us/step - loss: 40.2429 - acc: 0.1700\n",
      "Epoch 3/4\n",
      "300/300 [==============================] - 0s 108us/step - loss: 40.2429 - acc: 0.1700\n",
      "Epoch 4/4\n",
      "300/300 [==============================] - 0s 98us/step - loss: 40.2429 - acc: 0.1700\n"
     ]
    },
    {
     "data": {
      "text/plain": [
       "<keras.callbacks.History at 0x7fc73a45ea58>"
      ]
     },
     "execution_count": 13,
     "metadata": {},
     "output_type": "execute_result"
    }
   ],
   "source": [
    "[X_train, Y_train] = generate_dataset_regression(300, 20)\n",
    "\n",
    "model = Sequential()\n",
    "model.add(Dense(input_dim=5184, activation=\"softmax\", units=6, kernel_initializer=\"normal\"))\n",
    "\n",
    "### Defining the optimization method(stochastic gradient descent optimizer)\n",
    "\n",
    "model.compile(loss='categorical_crossentropy', optimizer='sgd', metrics=['accuracy'])\n",
    "model.fit(X_train, Y_train, epochs=4, batch_size=32)"
   ]
  },
  {
   "cell_type": "markdown",
   "metadata": {},
   "source": [
    "<html> \n",
    "<body>\n",
    "<p><font size=\"4\"> 5-1-3)-We evaluate our solution on the test set generated by\n",
    "[X_test, Y_test] = generate_test_set_regression() </font></p>\n",
    "</body>\n",
    "</html>"
   ]
  },
  {
   "cell_type": "code",
   "execution_count": 14,
   "metadata": {},
   "outputs": [
    {
     "name": "stdout",
     "output_type": "stream",
     "text": [
      "Creating data:\n",
      "0\n",
      "10\n",
      "20\n",
      "30\n",
      "40\n",
      "50\n",
      "60\n",
      "70\n",
      "80\n",
      "90\n",
      "100\n",
      "110\n",
      "120\n",
      "130\n",
      "140\n",
      "150\n",
      "160\n",
      "170\n",
      "180\n",
      "190\n",
      "200\n",
      "210\n",
      "220\n",
      "230\n",
      "240\n",
      "250\n",
      "260\n",
      "270\n",
      "280\n",
      "290\n",
      "300/300 [==============================] - 0s 224us/step\n"
     ]
    },
    {
     "data": {
      "text/plain": [
       "[39.87531778971354, 0.17000000019868214]"
      ]
     },
     "execution_count": 14,
     "metadata": {},
     "output_type": "execute_result"
    }
   ],
   "source": [
    "[X_test, Y_test] = generate_test_set_regression()\n",
    "model.evaluate(X_test, Y_test)"
   ]
  },
  {
   "cell_type": "markdown",
   "metadata": {},
   "source": [
    "<html> \n",
    "<body>\n",
    "    \n",
    " <p><font size=\"4\">\n",
    "    <p><u><b><i> 6)-Image Denoising </i></b> </u></p>\n",
    "    </font></p>\n",
    "</body>\n",
    "</html>"
   ]
  },
  {
   "cell_type": "markdown",
   "metadata": {},
   "source": [
    "<html> \n",
    "<body>\n",
    "<p><font size=\"4\"> In this section we implement a hourglass network for denoising. We will generate a random pairs of images, where one has noise with random amplitude and the second image has the same content but without noise. Then train the network to predict a noise-free image given a noisy image as input. We will focus in the case of rectangles. </font></p>\n",
    "</body>\n",
    "</html>"
   ]
  },
  {
   "cell_type": "code",
   "execution_count": 15,
   "metadata": {
    "scrolled": true
   },
   "outputs": [
    {
     "name": "stdout",
     "output_type": "stream",
     "text": [
      "(1, 72, 72, 1)\n"
     ]
    },
    {
     "name": "stderr",
     "output_type": "stream",
     "text": [
      "/home/ros/.local/lib/python3.6/site-packages/ipykernel_launcher.py:52: DeprecationWarning: Both axis > a.ndim and axis < -a.ndim - 1 are deprecated and will raise an AxisError in the future.\n",
      "/home/ros/.local/lib/python3.6/site-packages/ipykernel_launcher.py:55: DeprecationWarning: Both axis > a.ndim and axis < -a.ndim - 1 are deprecated and will raise an AxisError in the future.\n"
     ]
    },
    {
     "data": {
      "image/png": "[encoded data removed]",
      "text/plain": [
       "<Figure size 432x288 with 1 Axes>"
      ]
     },
     "metadata": {
      "needs_background": "light"
     },
     "output_type": "display_data"
    }
   ],
   "source": [
    "from keras.models import Sequential\n",
    "from keras.layers import Dense, Activation\n",
    "from keras.utils.np_utils import to_categorical\n",
    "from keras.layers.convolutional import Conv1D, MaxPooling1D\n",
    "from keras.layers import LocallyConnected1D\n",
    "\n",
    "import  numpy as np\n",
    "import  matplotlib.pyplot as plt\n",
    "%matplotlib inline\n",
    "\n",
    "\n",
    "\n",
    "# On some implementations of matplotlib, you may need to change this value\n",
    "IMAGE_SIZE = 72\n",
    "\n",
    "def generate_a_drawing(figsize, U, V, noise=0.0):\n",
    "    fig = plt.figure(figsize=(figsize,figsize))\n",
    "    ax = plt.subplot(111)\n",
    "    plt.axis('Off')\n",
    "    ax.set_xlim(0,figsize)\n",
    "    ax.set_ylim(0,figsize)\n",
    "    ax.fill(U, V, \"k\")\n",
    "    fig.canvas.draw()\n",
    "    imdata = np.frombuffer(fig.canvas.tostring_rgb(), dtype=np.uint8)[::3].astype(np.float32)\n",
    "    imdata = imdata + noise * np.random.random(imdata.size)\n",
    "    plt.close(fig)\n",
    "    return imdata\n",
    "\n",
    "def generate_a_rectangle(noise=0.0, free_location=False):\n",
    "    figsize = 1.0    \n",
    "    U = np.zeros(4)\n",
    "    V = np.zeros(4)\n",
    "    if free_location:\n",
    "        corners = np.random.random(4)\n",
    "        top = max(corners[0], corners[1])\n",
    "        bottom = min(corners[0], corners[1])\n",
    "        left = min(corners[2], corners[3])\n",
    "        right = max(corners[2], corners[3])\n",
    "    else:\n",
    "        side = (0.3 + 0.7 * np.random.random()) * figsize\n",
    "        top = figsize/2 + side/2\n",
    "        bottom = figsize/2 - side/2\n",
    "        left = bottom\n",
    "        right = top\n",
    "    U[0] = U[1] = top\n",
    "    U[2] = U[3] = bottom\n",
    "    V[0] = V[3] = left\n",
    "    V[1] = V[2] = right\n",
    "    return generate_a_drawing(figsize, U, V, noise)\n",
    "\n",
    "# We generate the a corrupte image and reshape it as the same time, the expected shape is (1, 72, 72, 1)\n",
    "im_corrupted = np.expand_dims(np.expand_dims(generate_a_rectangle(12).reshape(72,72), 3), 0)\n",
    "\n",
    "#Generation the non-noisy image \n",
    "im_true = np.expand_dims(np.expand_dims(generate_a_rectangle(12).reshape(72, 72), 3), 0)\n",
    "\n",
    "\n",
    "#Ploting the noisy image\n",
    "plt.imshow(im_corrupted.reshape(IMAGE_SIZE,IMAGE_SIZE), cmap='gray')\n",
    "\n",
    "#Checking the shape\n",
    "print(im_true.shape)\n"
   ]
  },
  {
   "cell_type": "code",
   "execution_count": 16,
   "metadata": {},
   "outputs": [
    {
     "name": "stdout",
     "output_type": "stream",
     "text": [
      "_________________________________________________________________\n",
      "Layer (type)                 Output Shape              Param #   \n",
      "=================================================================\n",
      "input_2 (InputLayer)         (None, 72, 72, 1)         0         \n",
      "_________________________________________________________________\n",
      "conv2d_2 (Conv2D)            (None, 72, 72, 32)        320       \n",
      "_________________________________________________________________\n",
      "conv2d_3 (Conv2D)            (None, 72, 72, 32)        9248      \n",
      "_________________________________________________________________\n",
      "conv2d_4 (Conv2D)            (None, 72, 72, 64)        18496     \n",
      "_________________________________________________________________\n",
      "conv2d_5 (Conv2D)            (None, 72, 72, 64)        36928     \n",
      "_________________________________________________________________\n",
      "conv2d_6 (Conv2D)            (None, 72, 72, 32)        18464     \n",
      "_________________________________________________________________\n",
      "conv2d_7 (Conv2D)            (None, 72, 72, 32)        9248      \n",
      "_________________________________________________________________\n",
      "flatten_2 (Flatten)          (None, 165888)            0         \n",
      "_________________________________________________________________\n",
      "dense_5 (Dense)              (None, 5184)              859968576 \n",
      "_________________________________________________________________\n",
      "dense_6 (Dense)              (None, 5184)              26879040  \n",
      "_________________________________________________________________\n",
      "reshape_1 (Reshape)          (None, 36, 36, 4)         0         \n",
      "_________________________________________________________________\n",
      "up_sampling2d_1 (UpSampling2 (None, 72, 72, 4)         0         \n",
      "_________________________________________________________________\n",
      "conv2d_8 (Conv2D)            (None, 72, 72, 128)       4736      \n",
      "_________________________________________________________________\n",
      "conv2d_9 (Conv2D)            (None, 72, 72, 128)       147584    \n",
      "_________________________________________________________________\n",
      "up_sampling2d_2 (UpSampling2 (None, 72, 72, 128)       0         \n",
      "_________________________________________________________________\n",
      "conv2d_10 (Conv2D)           (None, 72, 72, 64)        73792     \n",
      "_________________________________________________________________\n",
      "conv2d_11 (Conv2D)           (None, 72, 72, 64)        36928     \n",
      "_________________________________________________________________\n",
      "up_sampling2d_3 (UpSampling2 (None, 72, 72, 64)        0         \n",
      "_________________________________________________________________\n",
      "conv2d_12 (Conv2D)           (None, 72, 72, 8)         4616      \n",
      "_________________________________________________________________\n",
      "conv2d_13 (Conv2D)           (None, 72, 72, 1)         73        \n",
      "=================================================================\n",
      "Total params: 887,208,049\n",
      "Trainable params: 887,208,049\n",
      "Non-trainable params: 0\n",
      "_________________________________________________________________\n"
     ]
    }
   ],
   "source": [
    "model_input = Input(shape = (72,72, 1))\n",
    "\n",
    "conv1 = Conv2D(32, 3, padding = 'same', activation = 'relu')(model_input)\n",
    "conv2 = Conv2D(32, 3, padding = 'same', activation = 'relu')(conv1)\n",
    "\n",
    "conv3 = Conv2D(64, 3, padding = 'same', activation = 'relu')(conv2)\n",
    "conv4 = Conv2D(64, 3, padding = 'same', activation = 'relu')(conv3)\n",
    "\n",
    "\n",
    "conv5 = Conv2D(32, 3, padding = 'same', activation = 'relu')(conv4)\n",
    "conv6 = Conv2D(32, 3, padding = 'same', activation = 'relu')(conv5)\n",
    "\n",
    "flatten = Flatten()(conv6)\n",
    "\n",
    "encoding = Dense(5184, activation = 'relu')(flatten)\n",
    "dense2 = Dense(5184, activation = 'relu')(encoding)\n",
    "\n",
    "reshape = Reshape((36, 36, 4))(dense2)\n",
    "upsample2 = UpSampling2D(size = (2, 2))(reshape)\n",
    "\n",
    "conv11 = Conv2D(128, 3, padding = 'same', activation = 'relu')(upsample2)\n",
    "conv12 = Conv2D(128, 3, padding = 'same', activation = 'relu')(conv11)\n",
    "\n",
    "upsample3 = UpSampling2D(size = (1, 1))(conv12)\n",
    "\n",
    "conv13 = Conv2D(64, 3, padding = 'same', activation = 'relu')(upsample3)\n",
    "conv14 = Conv2D(64, 3, padding = 'same', activation = 'relu')(conv13)\n",
    "\n",
    "\n",
    "upsample3 = UpSampling2D( size = (1,1))(conv14)\n",
    "\n",
    "conv15 = Conv2D(8, 3, padding = 'same', activation = 'relu')(upsample3)\n",
    "conv16 = Conv2D(1, 3, padding = 'same', activation = 'tanh')(conv15)\n",
    "\n",
    "autoencoder = Model(model_input, conv16)\n",
    "autoencoder.summary()\n",
    "autoencoder.compile(optimizer='adam', loss='mse', metrics=['accuracy'])\n",
    "#autoencoder.fit(im_corrupted, im_true, epochs = 1, batch_size = 1 )"
   ]
  },
  {
   "cell_type": "code",
   "execution_count": null,
   "metadata": {},
   "outputs": [],
   "source": []
  },
  {
   "cell_type": "code",
   "execution_count": null,
   "metadata": {},
   "outputs": [],
   "source": []
  }
 ],
 "metadata": {
  "kernelspec": {
   "display_name": "Python 3",
   "language": "python",
   "name": "python3"
  },
  "language_info": {
   "codemirror_mode": {
    "name": "ipython",
    "version": 3
   },
   "file_extension": ".py",
   "mimetype": "text/x-python",
   "name": "python",
   "nbconvert_exporter": "python",
   "pygments_lexer": "ipython3",
   "version": "3.6.7"
  }
 },
 "nbformat": 4,
 "nbformat_minor": 2
}
